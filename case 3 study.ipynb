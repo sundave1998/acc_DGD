{
 "cells": [
  {
   "cell_type": "code",
   "execution_count": 1,
   "id": "bf6d82a9-893d-458a-b300-88c218b9d417",
   "metadata": {},
   "outputs": [],
   "source": [
    "import numpy as np\n",
    "import numpy.linalg as la\n",
    "from scipy.stats import ortho_group\n",
    "import matplotlib.pyplot as plt\n",
    "from tqdm.notebook import tqdm\n",
    "from math import sqrt\n",
    "\n",
    "\n",
    "import warnings\n",
    "warnings.filterwarnings(\"error\")"
   ]
  },
  {
   "cell_type": "code",
   "execution_count": 2,
   "id": "29d4d698-bb8d-4507-8603-236064f7efde",
   "metadata": {},
   "outputs": [],
   "source": [
    "# Network parameters\n",
    "agent_num = 10\n",
    "d = 4\n",
    "\n",
    "# Parameters for functions\n",
    "a = np.random.randn(agent_num , d )\n",
    "b = np.random.randn(agent_num , d )\n",
    "\n",
    "b[agent_num-1,:] = -np.sum(b[:-1,:], axis=0)\n",
    "\n",
    "# print(-np.sum(b[:-2,:], axis=0))\n",
    "# print(b[:-1,:])\n",
    "# print(b)\n",
    "# print(np.sum(b, axis=0))"
   ]
  },
  {
   "cell_type": "code",
   "execution_count": 397,
   "id": "43265aa6-9a39-4c53-868a-70435485c002",
   "metadata": {},
   "outputs": [],
   "source": [
    "averaging_matrix = np.ones((agent_num, agent_num))/agent_num\n",
    "\n",
    "mix_weight = 0.1\n",
    "mixing_matrix = np.eye(agent_num) *(1 - 2*mix_weight)\n",
    "for i in range(agent_num):\n",
    "    mixing_matrix[i,(i+1)%agent_num] = mixing_matrix[i,(i-1)%agent_num] = mix_weight\n",
    "# print(mixing_matrix)\n"
   ]
  },
  {
   "cell_type": "code",
   "execution_count": 207,
   "id": "18a9ab4b-e38a-4889-a70b-cc57df825aed",
   "metadata": {},
   "outputs": [],
   "source": [
    "def global_function_case_3(x, a, b):\n",
    "    x = x+2\n",
    "    agent_num = a.shape[0]\n",
    "    m = 12\n",
    "    if a.shape != b.shape or a.shape[1]!=x.shape[0]:\n",
    "        print(\"variable size error!\")\n",
    "    function_val = 0\n",
    "    for i in range(agent_num):\n",
    "        ax = np.dot(a[i], x)\n",
    "        bx = np.dot(b[i], x)\n",
    "        if(np.abs(ax)<=1):\n",
    "            function_val += (1/m*ax**m+bx)\n",
    "        else:\n",
    "            function_val += (np.abs(ax) + bx - (m-1)/m)\n",
    "    return function_val/agent_num\n",
    "            \n",
    "def function_gradient_case_3(x, a, b):\n",
    "    \n",
    "    x = x+2\n",
    "    agent_num = a.shape[0]\n",
    "    m = 12\n",
    "    if a.shape != b.shape or a.shape!=x.shape:\n",
    "        print(\"variable size error!\")\n",
    "    gradient = np.zeros(x.shape)\n",
    "    for i in range(agent_num):\n",
    "        ax = np.dot(a[i], x[i])\n",
    "        bx = np.dot(b[i], x[i])\n",
    "        if(np.abs(ax)<=1):\n",
    "            gradient[i] = ((ax**(m-1))*a[i]+b[i])\n",
    "        else:\n",
    "            gradient[i] = (np.sign(ax)*a[i]+b[i])\n",
    "    return gradient"
   ]
  },
  {
   "cell_type": "code",
   "execution_count": 208,
   "id": "d033bfaf-8941-4f2f-9c2e-6e032cfe2f09",
   "metadata": {},
   "outputs": [
    {
     "data": {
      "text/plain": [
       "[<matplotlib.lines.Line2D at 0x7f8c3383e970>]"
      ]
     },
     "execution_count": 208,
     "metadata": {},
     "output_type": "execute_result"
    },
    {
     "data": {
      "image/png": "[encoded data removed]",
      "text/plain": [
       "<Figure size 432x288 with 1 Axes>"
      ]
     },
     "metadata": {
      "needs_background": "light"
     },
     "output_type": "display_data"
    }
   ],
   "source": [
    "# See if the function is correct\n",
    "\n",
    "x_base = np.linspace(-2,2,1000, endpoint=False)\n",
    "func_val = np.zeros((1000))\n",
    "x_real = np.random.randn(d)\n",
    "for i in range(1000):\n",
    "    x_real[0] = x_base[i]\n",
    "    func_val[i] = global_function_case_3(x_real, a, b)\n",
    "\n",
    "plt.plot(x_base, func_val)"
   ]
  },
  {
   "cell_type": "code",
   "execution_count": 211,
   "id": "6018f6a5-6b62-455f-bbd6-250f0442fc17",
   "metadata": {},
   "outputs": [
    {
     "name": "stdout",
     "output_type": "stream",
     "text": [
      "2.237680614485955\n"
     ]
    }
   ],
   "source": [
    "x_star = np.zeros(d)\n",
    "loss_star = global_function_case_3(x_star, a, b)\n",
    "print(loss_star)\n",
    "\n",
    "loss_star = 0"
   ]
  },
  {
   "cell_type": "code",
   "execution_count": 304,
   "id": "aee61316-c1f5-4bea-8494-4d75f9d3a4c4",
   "metadata": {},
   "outputs": [
    {
     "data": {
      "application/vnd.jupyter.widget-view+json": {
       "model_id": "ec900426bfe7473a9236a46d3f6a3921",
       "version_major": 2,
       "version_minor": 0
      },
      "text/plain": [
       "  0%|          | 0/100000 [00:00<?, ?it/s]"
      ]
     },
     "metadata": {},
     "output_type": "display_data"
    }
   ],
   "source": [
    "#start the algorithm, this block is normal dgd\n",
    "x_0 = np.random.rand(agent_num, d)\n",
    "\n",
    "#first is gradient Descent\n",
    "iter_num = 100000\n",
    "lr = 0.1\n",
    "time_int = 0.01\n",
    "\n",
    "x_k = np.zeros((agent_num,d))\n",
    "x_k1 = np.zeros((agent_num,d))\n",
    "\n",
    "z_k = np.zeros((agent_num,d))\n",
    "z_k1 = np.zeros((agent_num,d))\n",
    "# x_k2 = np.zeros((agent_num,d))\n",
    "y_k = np.zeros((agent_num,d))\n",
    "y_k1 = np.zeros((agent_num,d))\n",
    "\n",
    "DGD_x_mean = np.zeros((iter_num,d))\n",
    "\n",
    "DGD_x_dist = np.zeros((iter_num, agent_num))\n",
    "\n",
    "DGD_loss_x_global = np.zeros((iter_num, agent_num))\n",
    "\n",
    "lambda_0 = 0\n",
    "lambda_k = 0\n",
    "lambda_k1 = 0\n",
    "\n",
    "# simulation centralized\n",
    "for agent in range(agent_num):\n",
    "    x_k[agent,:] = np.mean(x_0, axis=0)\n",
    "#\n",
    "\n",
    "# x_k = np.copy(x_0)\n",
    "z_k =  np.copy(x_k)\n",
    "\n",
    "lambda_k = lambda_0\n",
    "for k in tqdm(range( iter_num)):\n",
    "    # print(x_k)\n",
    "    lambda_k1 = (1+np.sqrt(1+ 4*lambda_k**2))/2\n",
    "    gamma = (1-lambda_k)/(lambda_k1)\n",
    "    lambda_k = lambda_k1\n",
    "    gradient_all = function_gradient_case_3(x_k, a, b) \n",
    "    \n",
    "    gradient_avg =  np.mean(gradient_all, axis=0)\n",
    "    for i in range(agent_num):\n",
    "        y_k1[i,:] = y_k[i,:] + time_int*(x_k[(i+1)%agent_num,:]+x_k[(i-1)%agent_num,:] - 2*x_k[i,:])\n",
    "        # z_k1[i,:] = x_k[i,:] - time_int*(lr*gradient_all[i,:] - y_k[i,:] - (x_k[(i+1)%agent_num,:]+x_k[(i-1)%agent_num,:] - 2*x_k[i,:]))\n",
    "        # z_k1[i,:] = x_k[i,:] - time_int*(lr*gradient_avg - y_k[i,:] - (x_k[(i+1)%agent_num,:]+x_k[(i-1)%agent_num,:] - 2*x_k[i,:]))\n",
    "        z_k1[i,:] = x_k[i,:] - time_int*(lr*gradient_all[i,:] )\n",
    "        # x_k1[i,:] = z_k1[i,:]\n",
    "        x_k1[i,:] = z_k1[i,:] + (1 - (3/(k+1)) )*(z_k1[i,:] - z_k[i,:]) \n",
    "        # x_k1[i,:] = (1-gamma)*z_k1[i,:] + gamma*z_k[i,:]\n",
    "    z_k = np.copy(z_k1)\n",
    "    x_k = np.copy(x_k1)\n",
    "    y_k = np.copy(y_k1)\n",
    "    \n",
    "    \n",
    "    x_bar = np.mean(x_k, axis=0)\n",
    "    \n",
    "    for agent in range(agent_num):\n",
    "        x_k[agent,:] = x_bar\n",
    "        \n",
    "    DGD_x_mean[k,:] = x_bar\n",
    "    for agent in range(agent_num):\n",
    "        \n",
    "        DGD_x_dist[k, agent] = np.linalg.norm(x_k[agent,:]-x_bar)\n",
    "        DGD_loss_x_global[k, agent] = global_function_case_3(x_k[agent,:], a, b)\n",
    "        # print(x_k)\n",
    "        # print(global_function_case_3(x_k[agent,:], a, b))\n",
    "        # input()\n",
    "    \n",
    "    "
   ]
  },
  {
   "cell_type": "code",
   "execution_count": 243,
   "id": "151c8dd1-2243-4d74-a344-ea8ba9f961e2",
   "metadata": {},
   "outputs": [],
   "source": [
    "# #start the algorithm, this block is normal dgd\n",
    "# x_0 = np.random.rand(agent_num, d)\n",
    "\n",
    "# #first is gradient Descent\n",
    "# iter_num = 100000\n",
    "# lr = 0.1\n",
    "# time_int = 0.01\n",
    "\n",
    "# x_k = np.zeros((agent_num,d))\n",
    "# x_k1 = np.zeros((agent_num,d))\n",
    "\n",
    "# z_k = np.zeros((agent_num,d))\n",
    "# z_k1 = np.zeros((agent_num,d))\n",
    "# # x_k2 = np.zeros((agent_num,d))\n",
    "# y_k = np.zeros((agent_num,d))\n",
    "# y_k1 = np.zeros((agent_num,d))\n",
    "\n",
    "# DGD_x_mean = np.zeros((iter_num,d))\n",
    "\n",
    "# DGD_x_dist = np.zeros((iter_num, agent_num))\n",
    "\n",
    "# DGD_loss_x_global = np.zeros((iter_num, agent_num))\n",
    "\n",
    "# lambda_0 = 0\n",
    "# lambda_k = 0\n",
    "# lambda_k1 = 0\n",
    "\n",
    "# # simulation centralized\n",
    "# for agent in range(agent_num):\n",
    "#     x_k[agent,:] = np.mean(x_0, axis=0)\n",
    "# #\n",
    "\n",
    "# # x_k = np.copy(x_0)\n",
    "# z_k =  np.copy(x_k)\n",
    "\n",
    "# lambda_k = lambda_0\n",
    "# for k in tqdm(range( iter_num)):\n",
    "#     lambda_k1 = (1+np.sqrt(1+ 4*lambda_k**2))/2\n",
    "#     gamma = (1-lambda_k)/(lambda_k1)\n",
    "#     lambda_k = lambda_k1\n",
    "#     gradient_all = function_gradient_case_3(x_k, a, b) \n",
    "    \n",
    "#     gradient_avg =  np.mean(gradient_all, axis=0)\n",
    "#     for i in range(agent_num):\n",
    "#         y_k1[i,:] = y_k[i,:] + time_int*(x_k[(i+1)%agent_num,:]+x_k[(i-1)%agent_num,:] - 2*x_k[i,:])\n",
    "#         z_k1[i,:] = x_k[i,:] - time_int*(lr*gradient_avg - y_k[i,:] - (x_k[(i+1)%agent_num,:]+x_k[(i-1)%agent_num,:] - 2*x_k[i,:]))\n",
    "#         x_k1[i,:] = z_k1[i,:]\n",
    "#         # x_k1[i,:] = (1-gamma)*z_k1[i,:] + gamma*z_k[i,:]\n",
    "#     z_k = np.copy(z_k1)\n",
    "#     x_k = np.copy(x_k1)\n",
    "#     y_k = np.copy(y_k1)\n",
    "    \n",
    "#     x_bar = np.mean(x_k, axis=0)\n",
    "    \n",
    "#     DGD_x_mean[k,:] = x_bar\n",
    "#     for agent in range(agent_num):\n",
    "        \n",
    "#         DGD_x_dist[k, agent] = np.linalg.norm(x_k[agent,:]-x_bar)\n",
    "#         DGD_loss_x_global[k, agent] = global_function_case_3(x_k[agent,:], a, b)\n",
    "    \n",
    "    "
   ]
  },
  {
   "cell_type": "code",
   "execution_count": 334,
   "id": "9bffe0a8-f8d3-4540-8f0b-a3e51ab11702",
   "metadata": {},
   "outputs": [
    {
     "data": {
      "application/vnd.jupyter.widget-view+json": {
       "model_id": "3e3c327a04284cef85695813d0eee613",
       "version_major": 2,
       "version_minor": 0
      },
      "text/plain": [
       "  0%|          | 0/100000 [00:00<?, ?it/s]"
      ]
     },
     "metadata": {},
     "output_type": "display_data"
    }
   ],
   "source": [
    "#start the algorithm\n",
    "x_0 = np.random.rand(agent_num, d)\n",
    "\n",
    "#first is gradient Descent\n",
    "iter_num = 100000\n",
    "lr = 0.1\n",
    "time_int = 0.1\n",
    "s = time_int\n",
    "sqrt_s = np.sqrt(s)\n",
    "\n",
    "x_k = np.zeros((agent_num,d))\n",
    "x_k1 = np.zeros((agent_num,d))\n",
    "\n",
    "z_k = np.zeros((agent_num,d))\n",
    "z_k1 = np.zeros((agent_num,d))\n",
    "# x_k2 = np.zeros((agent_num,d))\n",
    "y_k = np.zeros((agent_num,d))\n",
    "y_k1 = np.zeros((agent_num,d))\n",
    "\n",
    "x_mean = np.zeros((iter_num,d))\n",
    "x_dist = np.zeros((iter_num, agent_num))\n",
    "loss_x_global = np.zeros((iter_num, agent_num))\n",
    "\n",
    "lambda_0 = 0\n",
    "lambda_k = 0\n",
    "lambda_k1 = 0\n",
    "\n",
    "x_k = np.copy(x_0)\n",
    "z_k =  np.copy(x_k)\n",
    "\n",
    "lambda_k = lambda_0\n",
    "for k in tqdm(range( iter_num)):\n",
    "    lambda_k1 = (1+np.sqrt(1+ 4*lambda_k**2))/2\n",
    "    gamma = (1-lambda_k)/(lambda_k1)\n",
    "    lambda_k = lambda_k1\n",
    "    gradient_all = function_gradient_case_3(x_k, a, b)\n",
    "    # gradient_all = np.zeros(z_k.shape)\n",
    "    for i in range(agent_num):\n",
    "        y_k1[i,:] = y_k[i,:] + s*(1/agent_num)*(2*z_k[i,:]-z_k[(i+1)%agent_num,:]-z_k[(i-1)%agent_num,:] )\n",
    "        # z_k1[i,:] = x_k[i,:] - s*(lr*gradient_all[i,:] +  y_k[i,:]+ (1/agent_num)*(2*z_k[i,:] - z_k[(i+1)%agent_num,:]+z_k[(i-1)%agent_num,:] ))\n",
    "        z_k1[i,:] = x_k[i,:] - s*(lr*gradient_all[i,:] +  y_k[i,:]+ 10*(1/agent_num)*(2*z_k[i,:] - z_k[(i+1)%agent_num,:]-z_k[(i-1)%agent_num,:] ))\n",
    "        # x_k1[i,:] = z_k1[i,:]\n",
    "        # x_k1[i,:] = (1-gamma)*z_k1[i,:] + gamma*z_k[i,:] #-  time_int*(0- (x_k[(i+1)%agent_num,:]+x_k[(i-1)%agent_num,:] - 2*x_k[i,:]) )\n",
    "        z_diff = z_k1 - z_k\n",
    "        x_k1[i,:] = z_k1[i,:] + (1 - (3/(k+1)) )*(z_diff[i,:]) -  10*sqrt_s*(1/agent_num)*( 2*z_diff[i,:]-z_diff[(i-1)%agent_num,:] -z_diff[(i+1)%agent_num,:] ) #z_k1[i,:] + (1 - (3/(k+1)) )*(z_diff[i,:]) \n",
    "        \n",
    "        # z_bar = np.mean(z_k, axis=0)\n",
    "        # z1_bar = np.mean(z_k1, axis=0)\n",
    "        # x_k1[i,:] = z_k1[i,:] + (1 - (3/(k+1)) )*(z_k1[i,:] - z_k[i,:]) -  2*sqrt_s*(z_k1[i,:] - z_k[i,:])\n",
    "        # x_k1[i,:] = z_k1[i,:] + (1 - (3/(k+1)) )*(z_k1[i,:] - z_k[i,:]) -  2*sqrt_s*(z_k1[i,:] - z_k[i,:])\n",
    "        # x_k1[i,:] = z_k1[i,:] -gamma*(z_k1[i,:] - z_k[i,:]) +  time_int*( (z_k1[(i-1)%agent_num,:] - z_k[(i-1)%agent_num,:]+z_k1[(i+1)%agent_num,:] - z_k[(i+1)%agent_num,:] - 2*(z_k1[i,:] - z_k[i,:])) )\n",
    "    z_k = np.copy(z_k1)\n",
    "    x_k = np.copy(x_k1)\n",
    "    y_k = np.copy(y_k1)\n",
    "    \n",
    "    x_bar = np.mean(x_k, axis=0)\n",
    "    x_mean[k,:] = x_bar\n",
    "    for agent in range(agent_num):\n",
    "        x_dist[k, agent] = np.linalg.norm(x_k[agent,:]-x_bar)\n",
    "        loss_x_global[k, agent] = global_function_case_3(x_k[agent,:], a, b)\n",
    "        \n",
    "        \n",
    "        \n",
    "    \n",
    "    "
   ]
  },
  {
   "cell_type": "code",
   "execution_count": 442,
   "id": "b1ddc4e1-a782-4dfa-83f1-50843da3e950",
   "metadata": {},
   "outputs": [
    {
     "data": {
      "application/vnd.jupyter.widget-view+json": {
       "model_id": "6d118288dc05416fbfdf57a101c95d87",
       "version_major": 2,
       "version_minor": 0
      },
      "text/plain": [
       "  0%|          | 0/100000 [00:00<?, ?it/s]"
      ]
     },
     "metadata": {},
     "output_type": "display_data"
    }
   ],
   "source": [
    "#testing\n",
    "\n",
    "\n",
    "\n",
    "x_0 = np.random.rand(agent_num, d)\n",
    "\n",
    "#first is gradient Descent\n",
    "iter_num = 100000\n",
    "lr = 0.1\n",
    "time_int = 0.01\n",
    "s = time_int\n",
    "sqrt_s = np.sqrt(s)\n",
    "\n",
    "x_k = np.zeros((agent_num,d))\n",
    "x_k1 = np.zeros((agent_num,d))\n",
    "\n",
    "z_k = np.zeros((agent_num,d))\n",
    "z_k1 = np.zeros((agent_num,d))\n",
    "# x_k2 = np.zeros((agent_num,d))\n",
    "y_k = np.zeros((agent_num,d))\n",
    "y_k1 = np.zeros((agent_num,d))\n",
    "\n",
    "w_k = np.zeros((agent_num,d))\n",
    "w_k1 = np.zeros((agent_num,d))\n",
    "\n",
    "x_mean = np.zeros((iter_num,d))\n",
    "x_dist = np.zeros((iter_num, agent_num))\n",
    "loss_x_global = np.zeros((iter_num, agent_num))\n",
    "\n",
    "lambda_0 = 0\n",
    "lambda_k = 0\n",
    "lambda_k1 = 0\n",
    "\n",
    "x_k = np.copy(x_0)\n",
    "z_k =  np.copy(x_k)\n",
    "\n",
    "lambda_k = lambda_0\n",
    "for k in tqdm(range( iter_num)):\n",
    "    lambda_k1 = (1+np.sqrt(1+ 4*lambda_k**2))/2\n",
    "    gamma = (1-lambda_k)/(lambda_k1)\n",
    "    lambda_k = lambda_k1\n",
    "    gradient_all = function_gradient_case_3(x_k, a, b)\n",
    "    \n",
    "    # gradient_all = averaging_matrix@gradient_all\n",
    "    # gradient_all = np.zeros(z_k.shape)\n",
    "    for i in range(agent_num):\n",
    "        y_k1[i,:] = y_k[i,:] + s*(1/agent_num)*(2*x_k[i,:]-x_k[(i+1)%agent_num,:]-x_k[(i-1)%agent_num,:] )\n",
    "        # z_k1[i,:] = x_k[i,:] - s*(lr*gradient_all[i,:] +  y_k[i,:]+ (1/agent_num)*(2*z_k[i,:] - z_k[(i+1)%agent_num,:]+z_k[(i-1)%agent_num,:] ))\n",
    "    # y_k1 = averaging_matrix@y_k1\n",
    "    for i in range(agent_num):\n",
    "        z_k1[i,:] = x_k[i,:] - s*(lr*gradient_all[i,:] +  y_k[i,:]+ 10*(1/agent_num)*(2*x_k[i,:] - x_k[(i+1)%agent_num,:]-x_k[(i-1)%agent_num,:] ))\n",
    "        # x_k1[i,:] = z_k1[i,:]\n",
    "        # x_k1[i,:] = (1-gamma)*z_k1[i,:] + gamma*z_k[i,:] #-  time_int*(0- (x_k[(i+1)%agent_num,:]+x_k[(i-1)%agent_num,:] - 2*x_k[i,:]) )\n",
    "    for i in range(agent_num):\n",
    "\n",
    "        z_diff = z_k1 - z_k\n",
    "        w_k1[i,:] = z_k1[i,:] + (1 - (3/(k+1)) )*(z_diff[i,:]) -  10*sqrt_s*(1/agent_num)*( 2*z_diff[i,:]-z_diff[(i-1)%agent_num,:] -z_diff[(i+1)%agent_num,:] ) #z_k1[i,:] + (1 - (3/(k+1)) )*(z_diff[i,:]) \n",
    "        \n",
    "        \n",
    "    for i in range(agent_num):\n",
    "        x_k1[i,:] = w_k1[i,:] #- s* (2*w_k1[i,:]-w_k1[(i+1)%agent_num,:]-w_k1[(i-1)%agent_num,:])\n",
    "    # x_k1 = mixing_matrix@x_k1\n",
    "        # z_bar = np.mean(z_k, axis=0)\n",
    "        # z1_bar = np.mean(z_k1, axis=0)\n",
    "        # x_k1[i,:] = z_k1[i,:] + (1 - (3/(k+1)) )*(z_k1[i,:] - z_k[i,:]) -  2*sqrt_s*(z_k1[i,:] - z_k[i,:])\n",
    "        # x_k1[i,:] = z_k1[i,:] + (1 - (3/(k+1)) )*(z_k1[i,:] - z_k[i,:]) -  2*sqrt_s*(z_k1[i,:] - z_k[i,:])\n",
    "        # x_k1[i,:] = z_k1[i,:] -gamma*(z_k1[i,:] - z_k[i,:]) +  time_int*( (z_k1[(i-1)%agent_num,:] - z_k[(i-1)%agent_num,:]+z_k1[(i+1)%agent_num,:] - z_k[(i+1)%agent_num,:] - 2*(z_k1[i,:] - z_k[i,:])) )\n",
    "    z_k = np.copy(z_k1)\n",
    "    x_k = np.copy(x_k1)\n",
    "    y_k = np.copy(y_k1)\n",
    "    w_k = np.copy(w_k1)\n",
    "    \n",
    "    \n",
    "    \n",
    "    \n",
    "    x_bar = np.mean(x_k, axis=0)\n",
    "    x_mean[k,:] = x_bar\n",
    "    for agent in range(agent_num):\n",
    "        x_dist[k, agent] = np.linalg.norm(x_k[agent,:]-x_bar)\n",
    "        loss_x_global[k, agent] = global_function_case_3(x_k[agent,:], a, b)\n",
    "        \n",
    "        \n",
    "        \n",
    "    \n",
    "    "
   ]
  },
  {
   "cell_type": "code",
   "execution_count": 474,
   "id": "f2139251-131f-4dd4-bede-3e5c1ac27449",
   "metadata": {},
   "outputs": [
    {
     "data": {
      "application/vnd.jupyter.widget-view+json": {
       "model_id": "ce4cd2b697474628af422ffcfecefb6f",
       "version_major": 2,
       "version_minor": 0
      },
      "text/plain": [
       "  0%|          | 0/100000 [00:00<?, ?it/s]"
      ]
     },
     "metadata": {},
     "output_type": "display_data"
    }
   ],
   "source": [
    "#inplementing na li's formulation\n",
    "\n",
    "\n",
    "\n",
    "x_0 = np.random.rand(agent_num, d)\n",
    "\n",
    "#first is gradient Descent\n",
    "iter_num = 100000\n",
    "lr = 0.1\n",
    "time_int = 0.01\n",
    "s = time_int\n",
    "sqrt_s = np.sqrt(s)\n",
    "\n",
    "eta_t = 0.01\n",
    "\n",
    "x_k = np.zeros((agent_num,d))\n",
    "x_k1 = np.zeros((agent_num,d))\n",
    "\n",
    "v_k = np.zeros((agent_num,d))\n",
    "v_k1 = np.zeros((agent_num,d))\n",
    "# x_k2 = np.zeros((agent_num,d))\n",
    "y_k = np.zeros((agent_num,d))\n",
    "y_k1 = np.zeros((agent_num,d))\n",
    "\n",
    "s_k = np.zeros((agent_num,d))\n",
    "s_k1 = np.zeros((agent_num,d))\n",
    "\n",
    "na_x_mean = np.zeros((iter_num,d))\n",
    "na_x_dist = np.zeros((iter_num, agent_num))\n",
    "na_loss_x_global = np.zeros((iter_num, agent_num))\n",
    "\n",
    "alpha_0 = 0.5\n",
    "alpha_k = alpha_0\n",
    "alpha_k1 = (-alpha_k**2 + alpha_k*np.sqrt(alpha_k**2 +4))/2\n",
    "\n",
    "s_k = function_gradient_case_3(x_k, a, b)\n",
    "\n",
    "# x_k = np.copy(x_0)\n",
    "# z_k =  np.copy(x_k)\n",
    "\n",
    "lambda_k = lambda_0\n",
    "for k in tqdm(range( iter_num)):\n",
    "    alpha_k1 = (-alpha_k**2 + alpha_k*np.sqrt(alpha_k**2 +4))/2\n",
    "\n",
    "    # lambda_k1 = (1+np.sqrt(1+ 4*lambda_k**2))/2\n",
    "    # gamma = (1-lambda_k)/(lambda_k1)\n",
    "    # lambda_k = lambda_k1\n",
    "    \n",
    "    \n",
    "    x_k1 = mixing_matrix@y_k - eta_t*s_k\n",
    "    v_k1 = mixing_matrix@v_k - eta_t/alpha_k*s_k\n",
    "    y_k1 = (1 - alpha_k1)*x_k1 + alpha_k1 * v_k1\n",
    "    \n",
    "    gradient_last = function_gradient_case_3(y_k, a, b)\n",
    "    gradient_new = function_gradient_case_3(y_k1, a, b)\n",
    "    \n",
    "    s_k1 = mixing_matrix@s_k + (gradient_new - gradient_last)\n",
    "\n",
    "\n",
    "    s_k = np.copy(s_k1)\n",
    "    x_k = np.copy(x_k1)\n",
    "    y_k = np.copy(y_k1)\n",
    "    v_k = np.copy(v_k1)\n",
    "    alpha_k = alpha_k1\n",
    "    \n",
    "    \n",
    "    \n",
    "    x_bar = np.mean(x_k, axis=0)\n",
    "    na_x_mean[k,:] = x_bar\n",
    "    for agent in range(agent_num):\n",
    "        na_x_dist[k, agent] = np.linalg.norm(x_k[agent,:]-x_bar)\n",
    "        na_loss_x_global[k, agent] = global_function_case_3(x_k[agent,:], a, b)\n",
    "        \n",
    "        \n",
    "        \n",
    "    \n",
    "    "
   ]
  },
  {
   "cell_type": "code",
   "execution_count": 475,
   "id": "dc7d776f-75ad-49d6-a035-ab11c6e6ffc1",
   "metadata": {},
   "outputs": [
    {
     "data": {
      "application/vnd.jupyter.widget-view+json": {
       "model_id": "906e57eeca6f4bceaf73a32b0b0412b8",
       "version_major": 2,
       "version_minor": 0
      },
      "text/plain": [
       "  0%|          | 0/100000 [00:00<?, ?it/s]"
      ]
     },
     "metadata": {},
     "output_type": "display_data"
    }
   ],
   "source": [
    "#inplementing Lin & Li's formulation\n",
    "\n",
    "\n",
    "\n",
    "x_0 = np.random.rand(agent_num, d)\n",
    "\n",
    "#first is gradient Descent\n",
    "iter_num = 100000\n",
    "lr = 0.1\n",
    "time_int = 0.01\n",
    "s = time_int\n",
    "sqrt_s = np.sqrt(s)\n",
    "\n",
    "eta_t = 0.01\n",
    "\n",
    "x_k = np.zeros((agent_num,d))\n",
    "x_k1 = np.zeros((agent_num,d))\n",
    "\n",
    "z_k = np.zeros((agent_num,d))\n",
    "z_k1 = np.zeros((agent_num,d))\n",
    "# x_k2 = np.zeros((agent_num,d))\n",
    "y_k = np.zeros((agent_num,d))\n",
    "y_k1 = np.zeros((agent_num,d))\n",
    "\n",
    "s_k = np.zeros((agent_num,d))\n",
    "s_k1 = np.zeros((agent_num,d))\n",
    "\n",
    "lin_x_mean = np.zeros((iter_num,d))\n",
    "lin_x_dist = np.zeros((iter_num, agent_num))\n",
    "lin_loss_x_global = np.zeros((iter_num, agent_num))\n",
    "\n",
    "alpha_0 = 0.5\n",
    "alpha_k = alpha_0\n",
    "alpha_k1 = (-alpha_k**2 + alpha_k*np.sqrt(alpha_k**2 +4))/2\n",
    "\n",
    "s_k = function_gradient_case_3(x_k, a, b)\n",
    "\n",
    "# x_k = np.copy(x_0)\n",
    "# z_k =  np.copy(x_k)\n",
    "\n",
    "lambda_k = lambda_0\n",
    "for k in tqdm(range( iter_num)):\n",
    "    alpha_k1 = (-alpha_k**2 + alpha_k*np.sqrt(alpha_k**2 +4))/2\n",
    "\n",
    "    # lambda_k1 = (1+np.sqrt(1+ 4*lambda_k**2))/2\n",
    "    # gamma = (1-lambda_k)/(lambda_k1)\n",
    "    # lambda_k = lambda_k1\n",
    "    \n",
    "    y_k1 = alpha_k* z_k + (1 - alpha_k)*x_k\n",
    "    \n",
    "    gradient_last = function_gradient_case_3(y_k, a, b)\n",
    "    gradient_new = function_gradient_case_3(y_k1, a, b)    \n",
    "    \n",
    "    s_k1 = mixing_matrix@s_k + (gradient_new - gradient_last)\n",
    "    z_k1 = mixing_matrix@z_k - (eta_t/alpha_k)*s_k1\n",
    "    x_k1 = alpha_k * z_k1 + (1 - alpha_k)*mixing_matrix@x_k\n",
    "    \n",
    "#     x_k1 = mixing_matrix@y_k - eta_t*s_k\n",
    "#     v_k1 = mixing_matrix@v_k - eta_t/alpha_k*s_k\n",
    "#     y_k1 = (1 - alpha_k1)*x_k1 + alpha_k1 * v_k1\n",
    "    \n",
    "    alpha_k = alpha_k1\n",
    "    \n",
    "#     s_k1 = mixing_matrix@s_k + (gradient_new - gradient_last)\n",
    "\n",
    "\n",
    "    s_k = np.copy(s_k1)\n",
    "    x_k = np.copy(x_k1)\n",
    "    y_k = np.copy(y_k1)\n",
    "    z_k = np.copy(z_k1)\n",
    "    \n",
    "    \n",
    "    \n",
    "    \n",
    "    x_bar = np.mean(x_k, axis=0)\n",
    "    lin_x_mean[k,:] = x_bar\n",
    "    for agent in range(agent_num):\n",
    "        lin_x_dist[k, agent] = np.linalg.norm(x_k[agent,:]-x_bar)\n",
    "        lin_loss_x_global[k, agent] = global_function_case_3(x_k[agent,:], a, b)\n",
    "        \n",
    "        \n",
    "        \n",
    "    \n",
    "    "
   ]
  },
  {
   "cell_type": "code",
   "execution_count": 476,
   "id": "f91979f8-45d7-49a8-8d6a-96d22ec4abd1",
   "metadata": {},
   "outputs": [],
   "source": [
    "# print(10*sqrt_s*(1/agent_num)*( 2*z_diff[i,:]-z_diff[(i-1)%agent_num,:] -z_diff[(i+1)%agent_num,:] ) )\n",
    "# print((1 - (3/(k+1)) )*(z_diff[i,:]))\n",
    "\n",
    "# print(s*(lr*gradient_all[i,:] +  y_k[i,:]+ (1/agent_num)*(2*z_k[i,:] - z_k[(i+1)%agent_num,:]+z_k[(i-1)%agent_num,:] )))\n",
    "# print(s*(   (1/agent_num)*(2*z_k[i,:] - z_k[(i+1)%agent_num,:]+z_k[(i-1)%agent_num,:] )))\n",
    "# # print(s*(lr*gradient_all[i,:] +  y_k[i,:]+ (1/agent_num)*(2*z_k[i,:] - z_k[(i+1)%agent_num,:]+z_k[(i-1)%agent_num,:] )))\n",
    "\n",
    "\n"
   ]
  },
  {
   "cell_type": "code",
   "execution_count": 477,
   "id": "ede0a53a-79b8-45ce-a2a4-5c76297daf7f",
   "metadata": {},
   "outputs": [
    {
     "data": {
      "text/plain": [
       "[<matplotlib.lines.Line2D at 0x7f8c2b0d9f70>]"
      ]
     },
     "execution_count": 477,
     "metadata": {},
     "output_type": "execute_result"
    },
    {
     "data": {
      "image/png": "[encoded data removed]",
      "text/plain": [
       "<Figure size 432x288 with 1 Axes>"
      ]
     },
     "metadata": {
      "needs_background": "light"
     },
     "output_type": "display_data"
    }
   ],
   "source": [
    "plt.plot(np.linalg.norm(x_mean+2, axis = 1))\n",
    "plt.plot(np.linalg.norm(na_x_mean+2, axis = 1))\n",
    "plt.plot(np.linalg.norm(lin_x_mean+2, axis = 1))\n",
    "plt.plot(np.linalg.norm(DGD_x_mean+2, axis = 1))\n"
   ]
  },
  {
   "cell_type": "code",
   "execution_count": 478,
   "id": "6c16bbce-2d64-45b4-b74a-6d5db32ff383",
   "metadata": {},
   "outputs": [
    {
     "data": {
      "text/plain": [
       "[<matplotlib.lines.Line2D at 0x7f8c2b041f70>]"
      ]
     },
     "execution_count": 478,
     "metadata": {},
     "output_type": "execute_result"
    },
    {
     "data": {
      "image/png": "[encoded data removed]",
      "text/plain": [
       "<Figure size 432x288 with 1 Axes>"
      ]
     },
     "metadata": {
      "needs_background": "light"
     },
     "output_type": "display_data"
    }
   ],
   "source": [
    "plt.plot(np.log(x_dist[:,2]))\n",
    "plt.plot(np.log(na_x_dist[:,2]))\n",
    "plt.plot(np.log(lin_x_dist[:,2]))\n",
    "# plt.plot(DGD_x_dist[:,2])\n",
    "# plt.ylim(0,1e-13)"
   ]
  },
  {
   "cell_type": "code",
   "execution_count": 435,
   "id": "bc105159-28b6-4a30-b640-ab2d459f8709",
   "metadata": {},
   "outputs": [
    {
     "data": {
      "text/plain": [
       "[<matplotlib.lines.Line2D at 0x7f8c2c19ed90>]"
      ]
     },
     "execution_count": 435,
     "metadata": {},
     "output_type": "execute_result"
    },
    {
     "data": {
      "image/png": "[encoded data removed]",
      "text/plain": [
       "<Figure size 432x288 with 1 Axes>"
      ]
     },
     "metadata": {
      "needs_background": "light"
     },
     "output_type": "display_data"
    }
   ],
   "source": [
    "k_range = np.linspace(1, iter_num, iter_num)\n",
    "# plt.plot(np.log(np.abs(k_range*(x_record-x_mean))))\n",
    "plt.plot(np.log(np.abs((k_range+1)*(k_range+1)*(x_dist[:,3]))))\n",
    "# plt.ylim(0,1e-2)"
   ]
  },
  {
   "cell_type": "code",
   "execution_count": 433,
   "id": "7157a24e-bfdf-47df-9668-c233b65667ea",
   "metadata": {},
   "outputs": [
    {
     "ename": "ValueError",
     "evalue": "operands could not be broadcast together with shapes (1000000,) (100000,) ",
     "output_type": "error",
     "traceback": [
      "\u001b[0;31m---------------------------------------------------------------------------\u001b[0m",
      "\u001b[0;31mValueError\u001b[0m                                Traceback (most recent call last)",
      "\u001b[0;32m/tmp/ipykernel_800/2947832591.py\u001b[0m in \u001b[0;36m<module>\u001b[0;34m\u001b[0m\n\u001b[0;32m----> 1\u001b[0;31m \u001b[0mplt\u001b[0m\u001b[0;34m.\u001b[0m\u001b[0mplot\u001b[0m\u001b[0;34m(\u001b[0m\u001b[0mnp\u001b[0m\u001b[0;34m.\u001b[0m\u001b[0mlog\u001b[0m\u001b[0;34m(\u001b[0m\u001b[0;34m(\u001b[0m\u001b[0mk_range\u001b[0m\u001b[0;34m+\u001b[0m\u001b[0;36m1\u001b[0m\u001b[0;34m)\u001b[0m\u001b[0;34m*\u001b[0m\u001b[0mnp\u001b[0m\u001b[0;34m.\u001b[0m\u001b[0mabs\u001b[0m\u001b[0;34m(\u001b[0m\u001b[0mloss_x_global\u001b[0m\u001b[0;34m[\u001b[0m\u001b[0;34m:\u001b[0m\u001b[0;34m,\u001b[0m\u001b[0;36m3\u001b[0m\u001b[0;34m]\u001b[0m\u001b[0;34m)\u001b[0m\u001b[0;34m)\u001b[0m\u001b[0;34m)\u001b[0m\u001b[0;34m\u001b[0m\u001b[0;34m\u001b[0m\u001b[0m\n\u001b[0m\u001b[1;32m      2\u001b[0m \u001b[0;31m# plt.ylim(0,1e-7)\u001b[0m\u001b[0;34m\u001b[0m\u001b[0;34m\u001b[0m\u001b[0m\n",
      "\u001b[0;31mValueError\u001b[0m: operands could not be broadcast together with shapes (1000000,) (100000,) "
     ]
    }
   ],
   "source": [
    "plt.plot(np.log((k_range+1)*np.abs(loss_x_global[:,3])))\n",
    "# plt.ylim(0,1e-7)"
   ]
  },
  {
   "cell_type": "code",
   "execution_count": 480,
   "id": "65b9e398-e4e5-4c87-93db-8b86ce70d903",
   "metadata": {},
   "outputs": [
    {
     "data": {
      "text/plain": [
       "Text(0, 0.5, 'log(loss*k^2)')"
      ]
     },
     "execution_count": 480,
     "metadata": {},
     "output_type": "execute_result"
    },
    {
     "data": {
      "image/png": "[encoded data removed]",
      "text/plain": [
       "<Figure size 432x288 with 1 Axes>"
      ]
     },
     "metadata": {
      "needs_background": "light"
     },
     "output_type": "display_data"
    }
   ],
   "source": [
    "section_size =50000000\n",
    "plt.plot(np.log((k_range[0:section_size]+1)*(k_range[0:section_size]+1)*(loss_x_global[:section_size,3])), label=\"proposed\")\n",
    "plt.plot(np.log((k_range[0:section_size]+1)*(k_range[0:section_size]+1)*(DGD_loss_x_global[:section_size,3]-loss_star)), label=\"centralized\")\n",
    "plt.plot(np.log((k_range[0:section_size]+1)*(k_range[0:section_size]+1)*(na_loss_x_global[:section_size,3]-loss_star)), label=\"na li\")\n",
    "plt.plot(np.log((k_range[0:section_size]+1)*(k_range[0:section_size]+1)*(lin_loss_x_global[:section_size,3]-loss_star)), label=\"lin & li\")\n",
    "# plt.ylim(0,1e-1)\n",
    "# plt.xlim(300,1000)\n",
    "plt.legend()\n",
    "plt.ylabel(\"log(loss*k^2)\")\n"
   ]
  },
  {
   "cell_type": "code",
   "execution_count": 341,
   "id": "81a10016-d7dc-464e-be00-63ecb6cbba6e",
   "metadata": {},
   "outputs": [
    {
     "name": "stdout",
     "output_type": "stream",
     "text": [
      "2.5625050901467716e-05\n",
      "0\n"
     ]
    }
   ],
   "source": [
    "print(np.min(loss_x_global[0:4000]))\n",
    "print(loss_star)"
   ]
  },
  {
   "cell_type": "code",
   "execution_count": 342,
   "id": "4f04fda9-1d4a-4236-8141-92073721409f",
   "metadata": {},
   "outputs": [
    {
     "data": {
      "text/plain": [
       "[<matplotlib.lines.Line2D at 0x7f8c32097d30>]"
      ]
     },
     "execution_count": 342,
     "metadata": {},
     "output_type": "execute_result"
    },
    {
     "data": {
      "image/png": "[encoded data removed]",
      "text/plain": [
       "<Figure size 432x288 with 1 Axes>"
      ]
     },
     "metadata": {
      "needs_background": "light"
     },
     "output_type": "display_data"
    }
   ],
   "source": [
    "plt.plot(np.log(np.abs(loss_x_global[:,3]-loss_star)))\n",
    "plt.plot(np.log(np.abs(DGD_loss_x_global[:,3]-loss_star)))"
   ]
  },
  {
   "cell_type": "code",
   "execution_count": 255,
   "id": "429e5294-6558-4cac-baf8-27e4ddc4a891",
   "metadata": {},
   "outputs": [
    {
     "name": "stdout",
     "output_type": "stream",
     "text": [
      "1.0663762857743286e-07\n"
     ]
    }
   ],
   "source": [
    "print(np.min(loss_x_global))"
   ]
  },
  {
   "cell_type": "code",
   "execution_count": 430,
   "id": "4659dbef-dd08-4143-9750-d0792db679df",
   "metadata": {},
   "outputs": [
    {
     "data": {
      "text/plain": [
       "(0.0, 5.0)"
      ]
     },
     "execution_count": 430,
     "metadata": {},
     "output_type": "execute_result"
    },
    {
     "data": {
      "image/png": "[encoded data removed]",
      "text/plain": [
       "<Figure size 432x288 with 1 Axes>"
      ]
     },
     "metadata": {
      "needs_background": "light"
     },
     "output_type": "display_data"
    }
   ],
   "source": [
    "section_size =500000000\n",
    "plt.plot(((k_range[0:section_size]+1)**2 *(loss_x_global[:section_size,3]-loss_star)))\n",
    "plt.ylim(0,5)"
   ]
  },
  {
   "cell_type": "code",
   "execution_count": 227,
   "id": "3281b3c4-1b24-45ad-adb4-105ac88758cb",
   "metadata": {},
   "outputs": [
    {
     "name": "stdout",
     "output_type": "stream",
     "text": [
      "[[ 0.03847775 -0.29119031 -0.21288476 -0.25448257]\n",
      " [ 0.03847775 -0.2911902  -0.21288475 -0.25448286]\n",
      " [ 0.03847789 -0.29119013 -0.2128848  -0.25448306]\n",
      " [ 0.0384781  -0.29119011 -0.2128849  -0.25448309]\n",
      " [ 0.03847831 -0.29119016 -0.212885   -0.25448293]\n",
      " [ 0.03847845 -0.29119027 -0.21288508 -0.25448264]\n",
      " [ 0.03847844 -0.29119037 -0.21288509 -0.25448235]\n",
      " [ 0.03847831 -0.29119044 -0.21288504 -0.25448216]\n",
      " [ 0.03847809 -0.29119046 -0.21288494 -0.25448214]\n",
      " [ 0.03847788 -0.29119041 -0.21288483 -0.25448229]]\n"
     ]
    }
   ],
   "source": [
    "print(x_k)"
   ]
  },
  {
   "cell_type": "code",
   "execution_count": null,
   "id": "9225ba24-a9b6-40c6-b45f-053fd02200d0",
   "metadata": {},
   "outputs": [],
   "source": []
  }
 ],
 "metadata": {
  "kernelspec": {
   "display_name": "Python 3 (ipykernel)",
   "language": "python",
   "name": "python3"
  },
  "language_info": {
   "codemirror_mode": {
    "name": "ipython",
    "version": 3
   },
   "file_extension": ".py",
   "mimetype": "text/x-python",
   "name": "python",
   "nbconvert_exporter": "python",
   "pygments_lexer": "ipython3",
   "version": "3.9.7"
  }
 },
 "nbformat": 4,
 "nbformat_minor": 5
}
