{
 "cells": [
  {
   "cell_type": "code",
   "execution_count": 1,
   "metadata": {},
   "outputs": [],
   "source": [
    "# we consider a least square problem, f(x) = (Ax-b)^2\n",
    "import numpy as np\n",
    "import numpy.linalg as la\n",
    "from scipy.stats import ortho_group\n",
    "import matplotlib.pyplot as plt\n",
    "from tqdm.notebook import tqdm\n",
    "from math import sqrt\n",
    "\n",
    "\n",
    "import warnings\n",
    "warnings.filterwarnings(\"error\")"
   ]
  },
  {
   "cell_type": "code",
   "execution_count": 2,
   "metadata": {},
   "outputs": [
    {
     "name": "stdout",
     "output_type": "stream",
     "text": [
      "5\n"
     ]
    }
   ],
   "source": [
    "np.random.seed(seed=42)\n",
    "agent_num = 10\n",
    "\n",
    "d=100\n",
    "data_num = 20\n",
    "# x_opt = np.ones((d))/d\n",
    "x_opt = np.random.randn(d)+10\n",
    "x_local_opt = np.tile(x_opt,(agent_num, 1))\n",
    "x_local_opt = x_local_opt+  np.random.rand(agent_num, d)\n",
    "# print(x_local_opt[:,0])\n",
    "# P = ortho_group.rvs(d)\n",
    "A = np.zeros((agent_num, data_num, d))\n",
    "b = np.zeros((agent_num, data_num))\n",
    "\n",
    "for i in range(agent_num):\n",
    "    P = ortho_group.rvs(d)\n",
    "    eigv = (np.random.rand(d))\n",
    "    eigv[5:] = np.zeros(95)\n",
    "    A_temp = np.matmul( np.diag(eigv), P)\n",
    "    A[i] = A_temp[0:data_num,:]\n",
    "# A = np.matmul(np.transpose(P), np.matmul( np.diag(eigv), P))\n",
    "# x_opt = np.random.rand(d)\n",
    "    b[i] = np.matmul( A[i], x_local_opt[i])\n",
    "    \n",
    "    \n",
    "# filename = \"d_1000_n_10\"\n",
    "# np.save(filename+\"_A\", A)\n",
    "# np.save(filename+\"_b\", b)\n",
    "# np.save(filename+\"_x\", x_opt)\n",
    "print(np.linalg.matrix_rank(np.matmul(np.transpose(A[1]), A[1])))\n"
   ]
  },
  {
   "cell_type": "code",
   "execution_count": 3,
   "metadata": {},
   "outputs": [
    {
     "name": "stdout",
     "output_type": "stream",
     "text": [
      "-6.955136965988247\n",
      "2.558298256419096e-27\n"
     ]
    },
    {
     "data": {
      "image/png": "[encoded data removed]",
      "text/plain": [
       "<Figure size 432x288 with 1 Axes>"
      ]
     },
     "metadata": {
      "needs_background": "light"
     },
     "output_type": "display_data"
    }
   ],
   "source": [
    "# gamma = np.load(\"gamma.npy\")\n",
    "\n",
    "# # we first try to calculate the real optimal x_star\n",
    "A_stack = np.reshape(A, (200,100))\n",
    "b_stack = np.reshape(b, (200))\n",
    "\n",
    "\n",
    "# C = np.zeros((d,d-1))\n",
    "# for i in range(d-1):\n",
    "#     C[i,i] = 1\n",
    "# C[d-1,:]=-1\n",
    "# # print(C)\n",
    "# A_prime = np.matmul(A_stack, C)\n",
    "\n",
    "# c_vector = np.zeros((d))\n",
    "# c_vector[-1]=1\n",
    "# # print(c_vector)\n",
    "# b_prime = b_stack - np.matmul(A_stack, c_vector)\n",
    "\n",
    "\n",
    "# pinv_A = np.linalg.pinv(A_prime)\n",
    "# x_temp = np.matmul(pinv_A, b_prime)\n",
    "# x_direct = np.zeros((d))\n",
    "# x_direct[:d-1] = x_temp\n",
    "# x_direct[d-1] = 1 - np.sum(x_temp)\n",
    "# print(x_direct[0])\n",
    "# error = np.matmul(A_stack, x_direct)-b_stack\n",
    "# loss_star = np.matmul(np.transpose(error), error)\n",
    "# print(np.sum(loss_star))\n",
    "pinv_A = np.linalg.pinv(A_stack)\n",
    "x_direct = np.matmul(pinv_A, b_stack)\n",
    "# print(x_direct[0])\n",
    "error = np.matmul(A_stack, x_direct)-b_stack\n",
    "loss_star = np.matmul(np.transpose(error), error)\n",
    "plt.plot(x_direct)\n",
    "print(np.min(x_direct))\n",
    "print(loss_star)"
   ]
  },
  {
   "cell_type": "code",
   "execution_count": 4,
   "metadata": {},
   "outputs": [
    {
     "data": {
      "application/vnd.jupyter.widget-view+json": {
       "model_id": "f18d49af05054119b353ec1483a5f2f2",
       "version_major": 2,
       "version_minor": 0
      },
      "text/plain": [
       "  0%|          | 0/100000 [00:00<?, ?it/s]"
      ]
     },
     "metadata": {},
     "output_type": "display_data"
    }
   ],
   "source": [
    "import time\n",
    "\n",
    "x_0 = np.random.rand(agent_num, d)\n",
    "\n",
    "#first is gradient Descent\n",
    "iter_num = 100000\n",
    "lr = 1\n",
    "time_int = 0.01\n",
    "\n",
    "x_k = np.zeros((agent_num,d))\n",
    "x_k1 = np.zeros((agent_num,d))\n",
    "\n",
    "z_k = np.zeros((agent_num,d))\n",
    "z_k1 = np.zeros((agent_num,d))\n",
    "# x_k2 = np.zeros((agent_num,d))\n",
    "y_k = np.zeros((agent_num,d))\n",
    "y_k1 = np.zeros((agent_num,d))\n",
    "# y_k2 = np.zeros((agent_num,d))\n",
    "# x_accumulate = np.zeros((agent_num,d))\n",
    "# y_accumulate = np.zeros((agent_num,d))\n",
    "\n",
    "\n",
    "# z = np.zeros(d)\n",
    "# loss_z = np.zeros((iter_num))\n",
    "loss_x_global = np.zeros((agent_num, iter_num))\n",
    "# accu_x_record = np.zeros((iter_num))\n",
    "# accu_y_record = np.zeros((iter_num))\n",
    "x_record = np.zeros((iter_num))\n",
    "x_mean = np.zeros((iter_num))\n",
    "loss = np.zeros((agent_num, iter_num))\n",
    "\n",
    "# z = np.mean(x_0, axis = 0)\n",
    "# for i in  range(agent_num):\n",
    "\n",
    "#     x_k[i] = np.copy(x_0)\n",
    "x_k = np.copy(x_0)\n",
    "\n",
    "# \n",
    "# z_k =  np.copy(x_k)\n",
    "\n",
    "z_k =  np.log(x_k)+1\n",
    "# \n",
    "for k in tqdm(range( iter_num)):\n",
    "    for i in range(agent_num):\n",
    "\n",
    "        gradient_k1 = np.matmul(np.transpose(A[i]), (np.matmul(A[i], x_k[i,:])-b[i]))\n",
    "        y_k1[i,:] = y_k[i,:] + time_int*(z_k[(i+1)%agent_num,:]+z_k[(i-1)%agent_num,:] - 2*z_k[i,:])\n",
    "        z_k1[i,:] = z_k[i,:] - time_int*(lr*gradient_k1 - y_k[i,:] - (z_k[(i+1)%agent_num,:]+z_k[(i-1)%agent_num,:] - 2*z_k[i,:]))\n",
    "\n",
    "        error = np.matmul(A[i], x_k1[i,:])-b[i]\n",
    "        loss[i, k] = np.matmul(np.transpose(error), error)\n",
    "        \n",
    "#    change mirror method     \n",
    "    for i in range(agent_num):\n",
    "        x_k[i,:] = np.exp(z_k1[i,:])/np.exp(1)\n",
    "#         print(np.max(x_k[i,:]))\n",
    "#         x_k[i,:] = np.exp(z_k1[i,:])/sum(np.exp(z_k1[i,:]))\n",
    "#     \n",
    "    \n",
    "    z_k = np.copy(z_k1)\n",
    "    y_k = np.copy(y_k1)\n",
    "\n",
    "#     z = np.mean(x_k, axis = 0)\n",
    "#     print(z[0])\n",
    "#     for i in range(agent_num):\n",
    "#     error = np.matmul(A_stack, z)-b_stack\n",
    "#     loss_z[k] = np.matmul(np.transpose(error), error)\n",
    "    temp_sum = 0\n",
    "    x_bar = np.mean(x_k, axis=0)\n",
    "    for agent in range(agent_num):\n",
    "        temp_sum += np.linalg.norm(x_k[agent,:]-x_bar)\n",
    "    x_record[k] = temp_sum/agent_num\n",
    "    for i in range(agent_num):\n",
    "#         print(x_k[i,:])\n",
    "#         np.matmul(A_stack, )\n",
    "        error = np.matmul(A_stack, x_k[i,:])-b_stack\n",
    "        loss_x_global[i,k] = np.matmul(np.transpose(error), error)\n",
    "#         if((loss_x_global[i,k]-loss_star)< 0.01):\n",
    "#             print(\"reached\")\n",
    "#             reach=0\n",
    "#             time.sleep(3600)\n",
    "\n",
    "\n",
    "\n",
    "    "
   ]
  },
  {
   "cell_type": "code",
   "execution_count": 5,
   "metadata": {},
   "outputs": [],
   "source": [
    "# import time\n",
    "\n",
    "# x_0 = np.random.rand(agent_num, d)\n",
    "\n",
    "# #first is gradient Descent\n",
    "# iter_num = 100000\n",
    "# lr = 1\n",
    "# time_int = 0.01\n",
    "\n",
    "# x_k = np.zeros((agent_num,d))\n",
    "# x_k1 = np.zeros((agent_num,d))\n",
    "\n",
    "# z_k = np.zeros((agent_num,d))\n",
    "# z_k1 = np.zeros((agent_num,d))\n",
    "# # x_k2 = np.zeros((agent_num,d))\n",
    "# y_k = np.zeros((agent_num,d))\n",
    "# y_k1 = np.zeros((agent_num,d))\n",
    "# # y_k2 = np.zeros((agent_num,d))\n",
    "# # x_accumulate = np.zeros((agent_num,d))\n",
    "# # y_accumulate = np.zeros((agent_num,d))\n",
    "\n",
    "\n",
    "# # z = np.zeros(d)\n",
    "# # loss_z = np.zeros((iter_num))\n",
    "# loss_x_global_GD = np.zeros((agent_num, iter_num))\n",
    "# # accu_x_record = np.zeros((iter_num))\n",
    "# # accu_y_record = np.zeros((iter_num))\n",
    "# x_record = np.zeros((iter_num))\n",
    "# x_mean = np.zeros((iter_num))\n",
    "# loss_GD = np.zeros((agent_num, iter_num))\n",
    "\n",
    "# # z = np.mean(x_0, axis = 0)\n",
    "# # for i in  range(agent_num):\n",
    "\n",
    "# #     x_k[i] = np.copy(x_0)\n",
    "# x_k = np.copy(x_0)\n",
    "\n",
    "# # \n",
    "# # z_k =  np.copy(x_k)\n",
    "\n",
    "# z_k =  np.copy(x_0)\n",
    "# # \n",
    "# for k in tqdm(range( iter_num)):\n",
    "#     for i in range(agent_num):\n",
    "\n",
    "#         gradient_k1 = np.matmul(np.transpose(A[i]), (np.matmul(A[i], x_k[i,:])-b[i]))\n",
    "#         y_k1[i,:] = y_k[i,:] + time_int*(x_k[(i+1)%agent_num,:]+x_k[(i-1)%agent_num,:] - 2*x_k[i,:])\n",
    "#         z_k1[i,:] = z_k[i,:] - time_int*(lr*gradient_k1 - y_k[i,:] - (x_k[(i+1)%agent_num,:]+x_k[(i-1)%agent_num,:] - 2*x_k[i,:]))\n",
    "\n",
    "#         error = np.matmul(A[i], x_k1[i,:])-b[i]\n",
    "#         loss_GD[i, k] = np.matmul(np.transpose(error), error)\n",
    "        \n",
    "# #    change mirror method     \n",
    "#     for i in range(agent_num):\n",
    "#         # x_k[i,:] = np.copy(z_k1[i,:])\n",
    "# #         print(np.max(x_k[i,:]))\n",
    "#         # x_k[i,:] = np.exp(z_k1[i,:])/sum(np.exp(z_k1[i,:]))\n",
    "# #     \n",
    "    \n",
    "#     z_k = np.copy(z_k1)\n",
    "#     y_k = np.copy(y_k1)\n",
    "\n",
    "# #     z = np.mean(x_k, axis = 0)\n",
    "# #     print(z[0])\n",
    "# #     for i in range(agent_num):\n",
    "# #     error = np.matmul(A_stack, z)-b_stack\n",
    "# #     loss_z[k] = np.matmul(np.transpose(error), error)\n",
    "#     temp_sum = 0\n",
    "#     x_bar = np.mean(x_k, axis=0)\n",
    "#     for agent in range(agent_num):\n",
    "#         temp_sum += np.linalg.norm(x_k[agent,:]-x_bar)\n",
    "#     x_record[k] = temp_sum/agent_num\n",
    "    \n",
    "#     x_mean[k] = x_bar[0]\n",
    "#     x_record[k] = x_k[0,0]\n",
    "#     for i in range(agent_num):\n",
    "# #         print(x_k[i,:])\n",
    "# #         np.matmul(A_stack, )\n",
    "#         error = np.matmul(A_stack, x_k[i,:])-b_stack\n",
    "#         loss_x_global_GD[i,k] = np.matmul(np.transpose(error), error)\n",
    "# #         if((loss_x_global[i,k]-loss_star)< 0.01):\n",
    "# #             print(\"reached\")\n",
    "# #             reach=0\n",
    "# #             time.sleep(3600)\n",
    "\n",
    "\n",
    "\n",
    "    "
   ]
  },
  {
   "cell_type": "code",
   "execution_count": 6,
   "metadata": {},
   "outputs": [
    {
     "data": {
      "text/plain": [
       "[<matplotlib.lines.Line2D at 0x7f21940bd400>]"
      ]
     },
     "execution_count": 6,
     "metadata": {},
     "output_type": "execute_result"
    },
    {
     "data": {
      "image/png": "[encoded data removed]",
      "text/plain": [
       "<Figure size 432x288 with 1 Axes>"
      ]
     },
     "metadata": {
      "needs_background": "light"
     },
     "output_type": "display_data"
    }
   ],
   "source": [
    "plt.plot(np.log(np.abs(x_record-x_mean)))\n",
    "# plt.plot(x_mean)"
   ]
  },
  {
   "cell_type": "code",
   "execution_count": 7,
   "metadata": {},
   "outputs": [
    {
     "data": {
      "text/plain": [
       "[<matplotlib.lines.Line2D at 0x7f21940a1f40>]"
      ]
     },
     "execution_count": 7,
     "metadata": {},
     "output_type": "execute_result"
    },
    {
     "data": {
      "image/png": "[encoded data removed]",
      "text/plain": [
       "<Figure size 432x288 with 1 Axes>"
      ]
     },
     "metadata": {
      "needs_background": "light"
     },
     "output_type": "display_data"
    }
   ],
   "source": [
    "k_range = np.linspace(1, 100000, 100000)\n",
    "# print(k_range)\n",
    "\n",
    "\n",
    "plt.plot(np.log(np.abs(k_range*(x_record-x_mean))))\n"
   ]
  },
  {
   "cell_type": "code",
   "execution_count": 1,
   "metadata": {},
   "outputs": [],
   "source": [
    "# # This is comparison in GD\n",
    "\n",
    "# import time\n",
    "\n",
    "# x_0 = np.random.rand(agent_num, d)\n",
    "\n",
    "# #first is gradient Descent\n",
    "# iter_num = 1000000\n",
    "# lr = 1\n",
    "# time_int = 0.01\n",
    "\n",
    "# x_k = np.zeros((agent_num,d))\n",
    "# x_k1 = np.zeros((agent_num,d))\n",
    "\n",
    "# z_k = np.zeros((agent_num,d))\n",
    "# z_k1 = np.zeros((agent_num,d))\n",
    "# # x_k2 = np.zeros((agent_num,d))\n",
    "# y_k = np.zeros((agent_num,d))\n",
    "# y_k1 = np.zeros((agent_num,d))\n",
    "# # y_k2 = np.zeros((agent_num,d))\n",
    "# # x_accumulate = np.zeros((agent_num,d))\n",
    "# # y_accumulate = np.zeros((agent_num,d))\n",
    "\n",
    "\n",
    "# # z = np.zeros(d)\n",
    "# # loss_z = np.zeros((iter_num))\n",
    "# loss_x_global_GD = np.zeros((agent_num, iter_num))\n",
    "# # accu_x_record = np.zeros((iter_num))\n",
    "# # accu_y_record = np.zeros((iter_num))\n",
    "# x_record = np.zeros((iter_num))\n",
    "# x_mean = np.zeros((iter_num))\n",
    "# loss_GD = np.zeros((agent_num, iter_num))\n",
    "\n",
    "# # z = np.mean(x_0, axis = 0)\n",
    "# # for i in  range(agent_num):\n",
    "\n",
    "# #     x_k[i] = np.copy(x_0)\n",
    "# x_k = np.copy(x_0)\n",
    "\n",
    "# # \n",
    "# # z_k =  np.copy(x_k)\n",
    "\n",
    "# # z_k =  np.log(x_k)+1\n",
    "# # \n",
    "# for k in tqdm(range( iter_num)):\n",
    "#     for i in range(agent_num):\n",
    "\n",
    "#         gradient_k1 = np.matmul(np.transpose(A[i]), (np.matmul(A[i], x_k[i,:])-b[i]))\n",
    "#         y_k1[i,:] = y_k[i,:] + time_int*(x_k[(i+1)%agent_num,:]+x_k[(i-1)%agent_num,:] - 2*x_k[i,:])\n",
    "# #         x_k1[i,:] = x_k[i,:] - time_int*(lr*gradient_k1 )\n",
    "#         x_k1[i,:] = x_k[i,:] - time_int*(lr*gradient_k1 - y_k[i,:] - (x_k[(i+1)%agent_num,:]+x_k[(i-1)%agent_num,:] - 2*x_k[i,:]))\n",
    "#         error = np.matmul(A[i], x_k1[i,:])-b[i]\n",
    "#         loss_GD[i, k] = np.matmul(np.transpose(error), error)\n",
    "        \n",
    "# #    change mirror method     \n",
    "# #     for i in range(agent_num):\n",
    "# #         x_k[i,:] = np.exp(z_k1[i,:])/np.exp(1)\n",
    "# #         print(np.max(x_k[i,:]))\n",
    "# #         x_k[i,:] = np.exp(z_k1[i,:])/sum(np.exp(z_k1[i,:]))\n",
    "# #     \n",
    "    \n",
    "#     x_k = np.copy(x_k1)\n",
    "#     y_k = np.copy(y_k1)\n",
    "\n",
    "# #     z = np.mean(x_k, axis = 0)\n",
    "# #     print(z[0])\n",
    "# #     for i in range(agent_num):\n",
    "# #     error = np.matmul(A_stack, z)-b_stack\n",
    "# #     loss_z[k] = np.matmul(np.transpose(error), error)\n",
    "#     temp_sum = 0\n",
    "#     x_bar = np.mean(x_k, axis=0)\n",
    "#     for agent in range(agent_num):\n",
    "#         temp_sum += np.linalg.norm(x_k[agent,:]-x_bar)\n",
    "#     x_record[k] = temp_sum/agent_num\n",
    "#     for i in range(agent_num):\n",
    "# #         print(x_k[i,:])\n",
    "# #         np.matmul(A_stack, )\n",
    "#         error = np.matmul(A_stack, x_k[i,:])-b_stack\n",
    "#         loss_x_global_GD[i,k] = np.matmul(np.transpose(error), error)\n",
    "# #         if((loss_x_global[i,k]-loss_star)< 0.01):\n",
    "# #             print(\"reached\")\n",
    "# #             reach=0\n",
    "# #             time.sleep(3600)\n",
    "\n",
    "\n",
    "\n",
    "    "
   ]
  },
  {
   "cell_type": "code",
   "execution_count": 35,
   "metadata": {},
   "outputs": [
    {
     "data": {
      "text/plain": [
       "<matplotlib.legend.Legend at 0x7f41901f1fd0>"
      ]
     },
     "execution_count": 35,
     "metadata": {},
     "output_type": "execute_result"
    },
    {
     "data": {
      "image/png": "[encoded data removed]",
      "text/plain": [
       "<Figure size 432x288 with 1 Axes>"
      ]
     },
     "metadata": {
      "needs_background": "light"
     },
     "output_type": "display_data"
    }
   ],
   "source": [
    "plt.plot(x_record, label='x value at agent 1')\n",
    "# plt.plot(x_mean, label='x value of global average')\n",
    "# plt.scatter(accu_x_record[1:])\n",
    "# plt.plot(gamma[1:20000])\n",
    "y_range = 0.5\n",
    "plt.ylim((-y_range,y_range))\n",
    "\n",
    "plt.xlabel('iteration (k)')\n",
    "plt.ylabel('$x - x^*$')\n",
    "# ax.annotate('', xy=(0.99, 0), ha='left', va='top', xycoords='axes fraction', fontsize=8)\n",
    "plt.title(\"Integral Feedback\")\n",
    "\n",
    "plt.legend(loc='upper right')\n",
    "\n",
    "# print(accu_x_record[-1])x_k[i,:]\n",
    "# plt.xlabel(\"x_tilde value\")\n",
    "# plt.savefig(\"consensus_proposed\")\n",
    "# print(gamma[100000])"
   ]
  },
  {
   "cell_type": "code",
   "execution_count": 23,
   "metadata": {},
   "outputs": [],
   "source": [
    "# plt.plot(x_record[1000000:])\n",
    "# plt.plot(gamma[1:20000])\n",
    "# plt.ylim((-5e10,5000000))\n",
    "# print(x_record[-1])\n",
    "# plt.xlabel(\"local x value\")\n",
    "\n",
    "# plt.savefig(\"non_accel_EXTRA x_record 5m_it over_k\")"
   ]
  },
  {
   "cell_type": "code",
   "execution_count": 48,
   "metadata": {},
   "outputs": [
    {
     "data": {
      "text/plain": [
       "[<matplotlib.lines.Line2D at 0x7f417eed7730>]"
      ]
     },
     "execution_count": 49,
     "metadata": {},
     "output_type": "execute_result"
    },
    {
     "data": {
      "image/png": "[encoded data removed]",
      "text/plain": [
       "<Figure size 432x288 with 1 Axes>"
      ]
     },
     "metadata": {
      "needs_background": "light"
     },
     "output_type": "display_data"
    }
   ],
   "source": [
    "# loss_z_k2 = (loss_z-loss_star)*range(iter_num)*range(iter_num)\n",
    "# loss_z_k1 = (loss_z-loss_star)*range(iter_num)\n",
    "plt.plot((k_range*(loss_x_global[1,:]-loss_star)))\n",
    "# plt.ylim((-0.01,0.05))\n",
    "# print(loss_z_k2[1:].min())\n",
    "# print((loss_z*range(iter_num))[-1])\n",
    "# plt.xlabel(\"(loss-loss*)xk^2\")\n",
    "# plt.savefig(\"non_accel_EXTRA (loss-loss_star)k 5m_it over_k\")\n",
    "# loss_star_global\n",
    "# plt.savefig(\"100k_simplex_loss\")"
   ]
  },
  {
   "cell_type": "code",
   "execution_count": 7,
   "metadata": {},
   "outputs": [
    {
     "data": {
      "text/plain": [
       "Text(0, 0.5, '$log(loss - loss^*)$')"
      ]
     },
     "execution_count": 7,
     "metadata": {},
     "output_type": "execute_result"
    },
    {
     "data": {
      "image/png": "[encoded data removed]",
      "text/plain": [
       "<Figure size 432x288 with 1 Axes>"
      ]
     },
     "metadata": {
      "needs_background": "light"
     },
     "output_type": "display_data"
    }
   ],
   "source": [
    "# from matplotlib import rc\n",
    "# rc('font',**{'family':'sans-serif','sans-serif':['Helvetica']})\n",
    "# ## for Palatino and other serif fonts use:\n",
    "# #rc('font',**{'family':'serif','serif':['Palatino']})\n",
    "# rc('text', usetex=True)\n",
    "# plt.rc('text', usetex=True)\n",
    "# plt.rc('font', family='serif')\n",
    "for i in range(10):\n",
    "    \n",
    "#     loss_x_k2 = (loss_x_global[i,:]-loss_star)*range(iter_num)*range(iter_num)\n",
    "    loss_x = (loss_x_global_GD[i,:]-loss_star)\n",
    "#     loss_x_k2 = (loss_x_global[i,:])*range(iter_num)*range(iter_num)\n",
    "#     loss_x_k2 = (loss_x_global[i,:]-loss_star)*range(iter_num)\n",
    "    plt.plot(np.log(loss_x[1:]))\n",
    "# loss_x2_k2 = (loss[1,:]-loss_star)*range(iter_num)*range(iter_num)\n",
    "plt.xlabel('iteration (k)')\n",
    "plt.ylabel('$log(loss - loss^*)$')\n",
    "\n",
    "# plt.savefig(\"100k_simplex_log(local_loss-loss_star)\")\n",
    "\n",
    "# plt.plot(loss_x2_k2[1:])\n",
    "# plt.ylim((0,1))\n",
    "# print(loss_x_k2[1:].min())\n",
    "# print(loss_z*range(30000)[-1])\n",
    "# plt.xlabel(\"(loss-loss*)xk^2\")\n"
   ]
  },
  {
   "cell_type": "code",
   "execution_count": 28,
   "metadata": {},
   "outputs": [
    {
     "data": {
      "image/png": "[encoded data removed]",
      "text/plain": [
       "<Figure size 432x288 with 1 Axes>"
      ]
     },
     "metadata": {
      "needs_background": "light"
     },
     "output_type": "display_data"
    }
   ],
   "source": [
    "# from matplotlib import rc\n",
    "# rc('font',**{'family':'sans-serif','sans-serif':['Helvetica']})\n",
    "# ## for Palatino and other serif fonts use:\n",
    "# #rc('font',**{'family':'serif','serif':['Palatino']})\n",
    "# rc('text', usetex=True)\n",
    "# plt.rc('text', usetex=True)\n",
    "# plt.rc('font', family='serif')\n",
    "for i in range(10):\n",
    "    \n",
    "#     loss_x_k2 = (loss_x_global[i,:]-loss_star)*range(iter_num)*range(iter_num)\n",
    "    loss_x1 = (loss_x_global[i,:]-loss_star)\n",
    "    \n",
    "#     loss_x_k2 = (loss_x_global[i,:])*range(iter_num)*range(iter_num)\n",
    "#     loss_x_k2 = (loss_x_global[i,:]-loss_star)*range(iter_num)\n",
    "    plt.plot(np.log(loss_x1[1:200000]))\n",
    "    plt.plot(np.log(loss_x[1:]))\n",
    "# loss_x2_k2 = (loss[1,:]-loss_star)*range(iter_num)*range(iter_num)\n",
    "plt.xlabel('iteration (k)')\n",
    "plt.ylabel('$log(loss - loss^*)$')\n",
    "\n",
    "# plt.savefig(\"100k_simplex_log(local_loss-loss_star)\")\n",
    "plt.savefig(\"comparison_between_GD_MD\")\n",
    "\n",
    "# plt.plot(loss_x2_k2[1:])\n",
    "# plt.ylim((0,1))\n",
    "# print(loss_x_k2[1:].min())\n",
    "# print(loss_z*range(30000)[-1])\n",
    "# plt.xlabel(\"(loss-loss*)xk^2\")\n"
   ]
  },
  {
   "cell_type": "code",
   "execution_count": 35,
   "metadata": {},
   "outputs": [],
   "source": [
    "# np.save(\"100d_simplex_1m_loss\", loss_x_global)\n",
    "# np.save(\"100d_simplex_1m_loss_star\", loss_star)\n",
    "np.save(\"100d_simplex_1m_x_minus_bar\", x_record)\n",
    "# np.save(outfile, x)"
   ]
  },
  {
   "cell_type": "code",
   "execution_count": null,
   "metadata": {},
   "outputs": [],
   "source": []
  }
 ],
 "metadata": {
  "kernelspec": {
   "display_name": "Python 3 (ipykernel)",
   "language": "python",
   "name": "python3"
  },
  "language_info": {
   "codemirror_mode": {
    "name": "ipython",
    "version": 3
   },
   "file_extension": ".py",
   "mimetype": "text/x-python",
   "name": "python",
   "nbconvert_exporter": "python",
   "pygments_lexer": "ipython3",
   "version": "3.9.7"
  }
 },
 "nbformat": 4,
 "nbformat_minor": 4
}
